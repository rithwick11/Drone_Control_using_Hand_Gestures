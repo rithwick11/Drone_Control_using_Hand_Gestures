{
  "nbformat": 4,
  "nbformat_minor": 0,
  "metadata": {
    "colab": {
      "name": "handgestures.ipynb",
      "provenance": [],
      "collapsed_sections": []
    },
    "kernelspec": {
      "name": "python3",
      "display_name": "Python 3"
    },
    "language_info": {
      "name": "python"
    },
    "accelerator": "TPU"
  },
  "cells": [
    {
      "cell_type": "code",
      "execution_count": 2,
      "metadata": {
        "id": "YsLXdwAn3Ohu"
      },
      "outputs": [],
      "source": [
        "import numpy as np \n",
        "import pandas as pd \n",
        "import matplotlib.pyplot as plt \n",
        "import seaborn as sns \n",
        "from tensorflow import keras \n",
        "import tensorflow as tf \n",
        "import random\n",
        "import cv2\n",
        "import os\n",
        "from sklearn.metrics import confusion_matrix\n",
        "from sklearn.metrics import plot_confusion_matrix\n",
        "from sklearn.metrics import classification_report\n",
        "from tensorflow.keras import datasets, layers, models \n",
        "from tensorflow.keras.layers import Input, Lambda, Dense, Flatten,Dropout\n",
        "from tensorflow.keras.models import Model\n",
        "from tensorflow.keras.utils import to_categorical \n",
        "from tensorflow.keras.preprocessing.image import ImageDataGenerator\n",
        "from tensorflow.keras.applications.vgg19 import VGG19\n",
        "from tensorflow.keras.applications.vgg19 import preprocess_input\n",
        "from sklearn.model_selection import train_test_split \n",
        "from sklearn.metrics import confusion_matrix, classification_report, accuracy_score\n",
        "from sklearn.utils import shuffle \n",
        "\n",
        "#ignore warning messages\n",
        "import warnings\n",
        "warnings.filterwarnings('ignore') \n",
        "\n",
        "sns.set()"
      ]
    },
    {
      "cell_type": "code",
      "source": [
        "dataset = []\n",
        "\n",
        "data_path = \"/content/drive/MyDrive/Github/HandGestures/gestures\"\n",
        "\n",
        "for folder in os.listdir(data_path):\n",
        "\n",
        "    sub_path=data_path+\"/\"+folder\n",
        "\n",
        "    for img in os.listdir(sub_path):\n",
        "\n",
        "        image_path=sub_path+\"/\"+img\n",
        "\n",
        "        img_arr=cv2.imread(image_path)\n",
        "\n",
        "        img_arr=cv2.resize(img_arr,(224,224))\n",
        "\n",
        "        dataset.append(img_arr)"
      ],
      "metadata": {
        "id": "nBy4D6P14eIF"
      },
      "execution_count": 3,
      "outputs": []
    },
    {
      "cell_type": "code",
      "source": [
        "X = np.array(dataset)\n",
        "X = X/255.0\n",
        "X.shape"
      ],
      "metadata": {
        "id": "iu97WhcF7vKo",
        "colab": {
          "base_uri": "https://localhost:8080/",
          "height": 237
        },
        "outputId": "07cb4684-aa74-45f6-c994-62164b39bebd"
      },
      "execution_count": 45,
      "outputs": [
        {
          "output_type": "error",
          "ename": "TypeError",
          "evalue": "ignored",
          "traceback": [
            "\u001b[0;31m---------------------------------------------------------------------------\u001b[0m",
            "\u001b[0;31mTypeError\u001b[0m                                 Traceback (most recent call last)",
            "\u001b[0;32m<ipython-input-45-330f710145b3>\u001b[0m in \u001b[0;36m<module>\u001b[0;34m()\u001b[0m\n\u001b[1;32m      6\u001b[0m     \u001b[0mimg_arr\u001b[0m\u001b[0;34m=\u001b[0m\u001b[0mcv2\u001b[0m\u001b[0;34m.\u001b[0m\u001b[0mresize\u001b[0m\u001b[0;34m(\u001b[0m\u001b[0mimg_arr\u001b[0m\u001b[0;34m,\u001b[0m\u001b[0;34m(\u001b[0m\u001b[0;36m224\u001b[0m\u001b[0;34m,\u001b[0m\u001b[0;36m224\u001b[0m\u001b[0;34m)\u001b[0m\u001b[0;34m)\u001b[0m\u001b[0;34m\u001b[0m\u001b[0;34m\u001b[0m\u001b[0m\n\u001b[1;32m      7\u001b[0m     \u001b[0md\u001b[0m\u001b[0;34m.\u001b[0m\u001b[0mappend\u001b[0m\u001b[0;34m(\u001b[0m\u001b[0mimg_arr\u001b[0m\u001b[0;34m)\u001b[0m\u001b[0;34m\u001b[0m\u001b[0;34m\u001b[0m\u001b[0m\n\u001b[0;32m----> 8\u001b[0;31m     \u001b[0mimg\u001b[0m \u001b[0;34m+=\u001b[0m \u001b[0;36m2\u001b[0m\u001b[0;34m\u001b[0m\u001b[0;34m\u001b[0m\u001b[0m\n\u001b[0m\u001b[1;32m      9\u001b[0m \u001b[0;34m\u001b[0m\u001b[0m\n\u001b[1;32m     10\u001b[0m \u001b[0mprint\u001b[0m\u001b[0;34m(\u001b[0m\u001b[0mlen\u001b[0m\u001b[0;34m(\u001b[0m\u001b[0md\u001b[0m\u001b[0;34m)\u001b[0m\u001b[0;34m)\u001b[0m\u001b[0;34m\u001b[0m\u001b[0;34m\u001b[0m\u001b[0m\n",
            "\u001b[0;31mTypeError\u001b[0m: can only concatenate str (not \"int\") to str"
          ]
        }
      ]
    },
    {
      "cell_type": "code",
      "source": [
        "X_datagen = ImageDataGenerator(rescale = 1./255)"
      ],
      "metadata": {
        "id": "2GKvjC0JHqwC"
      },
      "execution_count": 25,
      "outputs": []
    },
    {
      "cell_type": "code",
      "source": [
        "X_set = X_datagen.flow_from_directory(data_path, target_size = (224, 224), batch_size = 32, class_mode = 'sparse')"
      ],
      "metadata": {
        "colab": {
          "base_uri": "https://localhost:8080/"
        },
        "id": "dPxmL2TRIFDr",
        "outputId": "77b2bfa4-a169-4282-c18b-6207f87fa386"
      },
      "execution_count": 17,
      "outputs": [
        {
          "output_type": "stream",
          "name": "stdout",
          "text": [
            "Found 4800 images belonging to 8 classes.\n"
          ]
        }
      ]
    },
    {
      "cell_type": "code",
      "source": [
        "y = X_set.classes"
      ],
      "metadata": {
        "id": "DT_8-V3-IT8o"
      },
      "execution_count": 18,
      "outputs": []
    },
    {
      "cell_type": "code",
      "source": [
        "X_set.class_indices"
      ],
      "metadata": {
        "colab": {
          "base_uri": "https://localhost:8080/"
        },
        "id": "GiHEXxCdIkm1",
        "outputId": "50184489-176a-4459-c1e3-6daeb455f180"
      },
      "execution_count": 19,
      "outputs": [
        {
          "output_type": "execute_result",
          "data": {
            "text/plain": [
              "{'DOWN': 0,\n",
              " 'EAST': 1,\n",
              " 'NORTH': 2,\n",
              " 'RTL': 3,\n",
              " 'SOUTH': 4,\n",
              " 'STOP': 5,\n",
              " 'UP': 6,\n",
              " 'WEST': 7}"
            ]
          },
          "metadata": {},
          "execution_count": 19
        }
      ]
    },
    {
      "cell_type": "code",
      "source": [
        "print(X.shape)\n",
        "print(y.shape)"
      ],
      "metadata": {
        "colab": {
          "base_uri": "https://localhost:8080/"
        },
        "id": "75gUzWW6IpM9",
        "outputId": "fef4b483-3386-4aea-a761-c7f07938a625"
      },
      "execution_count": 20,
      "outputs": [
        {
          "output_type": "stream",
          "name": "stdout",
          "text": [
            "(4800, 224, 224, 3)\n",
            "(4800,)\n"
          ]
        }
      ]
    },
    {
      "cell_type": "code",
      "source": [
        "X_train, X_test, y_train, y_test = train_test_split(X, y, test_size=0.2)\n",
        "(X_train.shape, y_train.shape), (X_test.shape, y_test.shape)"
      ],
      "metadata": {
        "id": "R_kwsMBLLcq-"
      },
      "execution_count": null,
      "outputs": []
    },
    {
      "cell_type": "code",
      "source": [
        "vgg = VGG19(input_shape=(224,224,3), weights='imagenet', include_top=False)\n",
        "\n",
        "#do not train the pre-trained layers of VGG-19\n",
        "for layer in vgg.layers:\n",
        "    layer.trainable = False\n",
        "\n",
        "x = Flatten()(vgg.output)\n",
        "\n",
        "#adding output layer\n",
        "prediction = Dense(8, activation='softmax')(x)\n",
        "\n",
        "model = Model(inputs=vgg.input, outputs=prediction)\n",
        "# view the structure of the model\n",
        "model.summary()"
      ],
      "metadata": {
        "colab": {
          "base_uri": "https://localhost:8080/"
        },
        "id": "iaWL995UIu8a",
        "outputId": "d89f9225-1c3b-4368-e8e2-8fe3e33108eb"
      },
      "execution_count": null,
      "outputs": [
        {
          "output_type": "stream",
          "name": "stdout",
          "text": [
            "Model: \"model_2\"\n",
            "_________________________________________________________________\n",
            " Layer (type)                Output Shape              Param #   \n",
            "=================================================================\n",
            " input_5 (InputLayer)        [(None, 224, 224, 3)]     0         \n",
            "                                                                 \n",
            " block1_conv1 (Conv2D)       (None, 224, 224, 64)      1792      \n",
            "                                                                 \n",
            " block1_conv2 (Conv2D)       (None, 224, 224, 64)      36928     \n",
            "                                                                 \n",
            " block1_pool (MaxPooling2D)  (None, 112, 112, 64)      0         \n",
            "                                                                 \n",
            " block2_conv1 (Conv2D)       (None, 112, 112, 128)     73856     \n",
            "                                                                 \n",
            " block2_conv2 (Conv2D)       (None, 112, 112, 128)     147584    \n",
            "                                                                 \n",
            " block2_pool (MaxPooling2D)  (None, 56, 56, 128)       0         \n",
            "                                                                 \n",
            " block3_conv1 (Conv2D)       (None, 56, 56, 256)       295168    \n",
            "                                                                 \n",
            " block3_conv2 (Conv2D)       (None, 56, 56, 256)       590080    \n",
            "                                                                 \n",
            " block3_conv3 (Conv2D)       (None, 56, 56, 256)       590080    \n",
            "                                                                 \n",
            " block3_conv4 (Conv2D)       (None, 56, 56, 256)       590080    \n",
            "                                                                 \n",
            " block3_pool (MaxPooling2D)  (None, 28, 28, 256)       0         \n",
            "                                                                 \n",
            " block4_conv1 (Conv2D)       (None, 28, 28, 512)       1180160   \n",
            "                                                                 \n",
            " block4_conv2 (Conv2D)       (None, 28, 28, 512)       2359808   \n",
            "                                                                 \n",
            " block4_conv3 (Conv2D)       (None, 28, 28, 512)       2359808   \n",
            "                                                                 \n",
            " block4_conv4 (Conv2D)       (None, 28, 28, 512)       2359808   \n",
            "                                                                 \n",
            " block4_pool (MaxPooling2D)  (None, 14, 14, 512)       0         \n",
            "                                                                 \n",
            " block5_conv1 (Conv2D)       (None, 14, 14, 512)       2359808   \n",
            "                                                                 \n",
            " block5_conv2 (Conv2D)       (None, 14, 14, 512)       2359808   \n",
            "                                                                 \n",
            " block5_conv3 (Conv2D)       (None, 14, 14, 512)       2359808   \n",
            "                                                                 \n",
            " block5_conv4 (Conv2D)       (None, 14, 14, 512)       2359808   \n",
            "                                                                 \n",
            " block5_pool (MaxPooling2D)  (None, 7, 7, 512)         0         \n",
            "                                                                 \n",
            " flatten_3 (Flatten)         (None, 25088)             0         \n",
            "                                                                 \n",
            " dense_3 (Dense)             (None, 8)                 200712    \n",
            "                                                                 \n",
            "=================================================================\n",
            "Total params: 20,225,096\n",
            "Trainable params: 200,712\n",
            "Non-trainable params: 20,024,384\n",
            "_________________________________________________________________\n"
          ]
        }
      ]
    },
    {
      "cell_type": "code",
      "source": [
        "model.compile(loss='sparse_categorical_crossentropy', optimizer=\"adam\", metrics=['accuracy'])"
      ],
      "metadata": {
        "id": "h-MsIsaDJ84F"
      },
      "execution_count": null,
      "outputs": []
    },
    {
      "cell_type": "code",
      "source": [
        "#Early stopping to avoid overfitting of model\n",
        "from tensorflow.keras.callbacks import EarlyStopping\n",
        "early_stop=EarlyStopping(monitor='val_loss',mode='min',verbose=1,patience=5)"
      ],
      "metadata": {
        "id": "mbOEqBAXLAbF"
      },
      "execution_count": null,
      "outputs": []
    },
    {
      "cell_type": "code",
      "source": [
        "# fit the model\n",
        "history = model.fit(X_train, y_train, epochs=10, validation_datat=(X_test, y_test), callbacks=[early_stop], batch_size=32, shuffle=True)"
      ],
      "metadata": {
        "colab": {
          "base_uri": "https://localhost:8080/"
        },
        "id": "T3JsrY59LLlN",
        "outputId": "bad37e40-cb91-44f5-d999-a253d3288f82"
      },
      "execution_count": null,
      "outputs": [
        {
          "output_type": "stream",
          "name": "stdout",
          "text": [
            "Epoch 1/10\n",
            "12/12 [==============================] - ETA: 0s - loss: 2.9931 - accuracy: 0.1441 WARNING:tensorflow:Early stopping conditioned on metric `val_loss` which is not available. Available metrics are: loss,accuracy\n",
            "12/12 [==============================] - 223s 18s/step - loss: 2.9931 - accuracy: 0.1441\n",
            "Epoch 2/10\n",
            "12/12 [==============================] - ETA: 0s - loss: 2.5980 - accuracy: 0.1073 WARNING:tensorflow:Early stopping conditioned on metric `val_loss` which is not available. Available metrics are: loss,accuracy\n",
            "12/12 [==============================] - 220s 18s/step - loss: 2.5980 - accuracy: 0.1073\n",
            "Epoch 3/10\n",
            "12/12 [==============================] - ETA: 0s - loss: 2.3768 - accuracy: 0.1073 WARNING:tensorflow:Early stopping conditioned on metric `val_loss` which is not available. Available metrics are: loss,accuracy\n",
            "12/12 [==============================] - 220s 18s/step - loss: 2.3768 - accuracy: 0.1073\n",
            "Epoch 4/10\n",
            "12/12 [==============================] - ETA: 0s - loss: 2.3625 - accuracy: 0.1582 WARNING:tensorflow:Early stopping conditioned on metric `val_loss` which is not available. Available metrics are: loss,accuracy\n",
            "12/12 [==============================] - 220s 18s/step - loss: 2.3625 - accuracy: 0.1582\n",
            "Epoch 5/10\n",
            "12/12 [==============================] - ETA: 0s - loss: 2.4636 - accuracy: 0.1102 WARNING:tensorflow:Early stopping conditioned on metric `val_loss` which is not available. Available metrics are: loss,accuracy\n",
            "12/12 [==============================] - 220s 18s/step - loss: 2.4636 - accuracy: 0.1102\n",
            "Epoch 6/10\n",
            "12/12 [==============================] - ETA: 0s - loss: 2.4301 - accuracy: 0.1384 WARNING:tensorflow:Early stopping conditioned on metric `val_loss` which is not available. Available metrics are: loss,accuracy\n",
            "12/12 [==============================] - 220s 18s/step - loss: 2.4301 - accuracy: 0.1384\n",
            "Epoch 7/10\n",
            "12/12 [==============================] - ETA: 0s - loss: 2.3873 - accuracy: 0.1271 WARNING:tensorflow:Early stopping conditioned on metric `val_loss` which is not available. Available metrics are: loss,accuracy\n",
            "12/12 [==============================] - 220s 18s/step - loss: 2.3873 - accuracy: 0.1271\n",
            "Epoch 8/10\n",
            "12/12 [==============================] - ETA: 0s - loss: 2.6027 - accuracy: 0.0876 WARNING:tensorflow:Early stopping conditioned on metric `val_loss` which is not available. Available metrics are: loss,accuracy\n",
            "12/12 [==============================] - 220s 18s/step - loss: 2.6027 - accuracy: 0.0876\n",
            "Epoch 9/10\n",
            "12/12 [==============================] - ETA: 0s - loss: 2.5036 - accuracy: 0.1356 WARNING:tensorflow:Early stopping conditioned on metric `val_loss` which is not available. Available metrics are: loss,accuracy\n",
            "12/12 [==============================] - 221s 18s/step - loss: 2.5036 - accuracy: 0.1356\n",
            "Epoch 10/10\n",
            "12/12 [==============================] - ETA: 0s - loss: 2.1518 - accuracy: 0.1412 WARNING:tensorflow:Early stopping conditioned on metric `val_loss` which is not available. Available metrics are: loss,accuracy\n",
            "12/12 [==============================] - 221s 18s/step - loss: 2.1518 - accuracy: 0.1412\n"
          ]
        }
      ]
    },
    {
      "cell_type": "code",
      "source": [
        "history.history.keys()"
      ],
      "metadata": {
        "colab": {
          "base_uri": "https://localhost:8080/"
        },
        "id": "si5be8MhMdl6",
        "outputId": "3233899f-bac3-4eae-ac6f-9b4fabe0255d"
      },
      "execution_count": null,
      "outputs": [
        {
          "output_type": "execute_result",
          "data": {
            "text/plain": [
              "dict_keys(['loss', 'accuracy'])"
            ]
          },
          "metadata": {},
          "execution_count": 38
        }
      ]
    },
    {
      "cell_type": "code",
      "source": [
        "# accuracies\n",
        "plt.plot(history.history['accuracy'], label='acc')\n",
        "plt.plot(history.history['val_accuracy'], label='val_acc')\n",
        "plt.title(\"Training and validation accuracy\")\n",
        "plt.legend()\n",
        "plt.xlabel('epoch')\n",
        "plt.show()"
      ],
      "metadata": {
        "colab": {
          "base_uri": "https://localhost:8080/",
          "height": 268
        },
        "id": "k0TfEkUOVTiL",
        "outputId": "e7cc53d3-f05e-46e2-98fe-1e8d4c03d8c4"
      },
      "execution_count": null,
      "outputs": [
        {
          "output_type": "display_data",
          "data": {
            "text/plain": [
              "<Figure size 432x288 with 1 Axes>"
            ],
            "image/png": "[encoded data removed]"
          },
          "metadata": {}
        }
      ]
    },
    {
      "cell_type": "code",
      "source": [
        "# loss\n",
        "plt.plot(history.history['loss'], label='loss')\n",
        "plt.plot(history.history['val_loss'], label='val_loss')\n",
        "plt.title(\"Training and validation losses\")\n",
        "plt.legend()\n",
        "plt.xlabel('epoch')\n",
        "plt.show()"
      ],
      "metadata": {
        "colab": {
          "base_uri": "https://localhost:8080/",
          "height": 268
        },
        "id": "ADIu89_vVa8j",
        "outputId": "e736f153-e9c0-4f22-e1c2-e6371f1c63d6"
      },
      "execution_count": null,
      "outputs": [
        {
          "output_type": "display_data",
          "data": {
            "text/plain": [
              "<Figure size 432x288 with 1 Axes>"
            ],
            "image/png": "[encoded data removed]"
          },
          "metadata": {}
        }
      ]
    },
    {
      "cell_type": "code",
      "source": [
        "model.evaluate(X_test,y_test,batch_size=32)"
      ],
      "metadata": {
        "colab": {
          "base_uri": "https://localhost:8080/"
        },
        "id": "b-LgPsqjVgNg",
        "outputId": "f0f2e201-d819-4c47-ba19-81f4d75f83ec"
      },
      "execution_count": null,
      "outputs": [
        {
          "output_type": "stream",
          "name": "stdout",
          "text": [
            "3/3 [==============================] - 67s 22s/step - loss: 2.1682 - accuracy: 0.1461\n"
          ]
        },
        {
          "output_type": "execute_result",
          "data": {
            "text/plain": [
              "[2.1681838035583496, 0.14606741070747375]"
            ]
          },
          "metadata": {},
          "execution_count": 42
        }
      ]
    },
    {
      "cell_type": "code",
      "source": [
        "#predict\n",
        "y_pred=model.predict(X_test)\n",
        "y_pred=np.argmax(y_pred,axis=1)\n",
        "\n",
        "#get classification report\n",
        "print(classification_report(y_pred,y_test))\n",
        "\n",
        "#get confusion matrix\n",
        "\n",
        "print(confusion_matrix(y_pred,y_test))"
      ],
      "metadata": {
        "colab": {
          "base_uri": "https://localhost:8080/"
        },
        "id": "8MvYfgd2VjW0",
        "outputId": "92b967a5-6b15-4b35-94fe-7fcc902407b9"
      },
      "execution_count": null,
      "outputs": [
        {
          "output_type": "stream",
          "name": "stdout",
          "text": [
            "              precision    recall  f1-score   support\n",
            "\n",
            "           0       0.00      0.00      0.00         0\n",
            "           1       1.00      0.15      0.25        89\n",
            "           2       0.00      0.00      0.00         0\n",
            "           3       0.00      0.00      0.00         0\n",
            "           4       0.00      0.00      0.00         0\n",
            "           5       0.00      0.00      0.00         0\n",
            "           6       0.00      0.00      0.00         0\n",
            "           7       0.00      0.00      0.00         0\n",
            "\n",
            "    accuracy                           0.15        89\n",
            "   macro avg       0.12      0.02      0.03        89\n",
            "weighted avg       1.00      0.15      0.25        89\n",
            "\n",
            "[[ 0  0  0  0  0  0  0  0]\n",
            " [12 13 14  9 12 14  4 11]\n",
            " [ 0  0  0  0  0  0  0  0]\n",
            " [ 0  0  0  0  0  0  0  0]\n",
            " [ 0  0  0  0  0  0  0  0]\n",
            " [ 0  0  0  0  0  0  0  0]\n",
            " [ 0  0  0  0  0  0  0  0]\n",
            " [ 0  0  0  0  0  0  0  0]]\n"
          ]
        }
      ]
    },
    {
      "cell_type": "code",
      "source": [
        "#https://www.analyticsvidhya.com/blog/2021/07/step-by-step-guide-for-image-classification-on-custom-datasets/"
      ],
      "metadata": {
        "id": "wOYR8OFlV_5u"
      },
      "execution_count": null,
      "outputs": []
    },
    {
      "cell_type": "code",
      "source": [
        ""
      ],
      "metadata": {
        "id": "A7EXKLS7W-fV"
      },
      "execution_count": null,
      "outputs": []
    }
  ]
}